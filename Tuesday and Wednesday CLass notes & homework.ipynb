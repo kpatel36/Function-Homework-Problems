{
 "cells": [
  {
   "cell_type": "markdown",
   "metadata": {},
   "source": [
    "# Functions, Scoping, Data Collections 1 & List Comprehensions"
   ]
  },
  {
   "cell_type": "markdown",
   "metadata": {},
   "source": [
    "## Tasks Today:\n",
    "\n",
    "<i>Monday Additions (or, and ... if statements)</i>\n",
    "\n",
    "1) String Manipulation <br>\n",
    " &nbsp;&nbsp;&nbsp;&nbsp; a) strip() <br>\n",
    " &nbsp;&nbsp;&nbsp;&nbsp; b) title() <br>\n",
    "2) Working With Lists <br>\n",
    " &nbsp;&nbsp;&nbsp;&nbsp; a) min() <br>\n",
    " &nbsp;&nbsp;&nbsp;&nbsp; b) max() <br>\n",
    " &nbsp;&nbsp;&nbsp;&nbsp; c) sum() <br>\n",
    " &nbsp;&nbsp;&nbsp;&nbsp; d) sort() <br>\n",
    " &nbsp;&nbsp;&nbsp;&nbsp; e) Copying a List <br>\n",
    " &nbsp;&nbsp;&nbsp;&nbsp; f) 'in' keyword <br>\n",
    " &nbsp;&nbsp;&nbsp;&nbsp; g) 'not in' keyword <br>\n",
    " &nbsp;&nbsp;&nbsp;&nbsp; i) Checking an Empty List <br>\n",
    " &nbsp;&nbsp;&nbsp;&nbsp; j) Removing Instances with a Loop <br>\n",
    "3) List Comprehensions <br>\n",
    "4) Tuples <br>\n",
    " &nbsp;&nbsp;&nbsp;&nbsp; a) sorted() <br>\n",
    "5) Functions <br>\n",
    " &nbsp;&nbsp;&nbsp;&nbsp; a) User-Defined vs. Built-In Functions <br>\n",
    " &nbsp;&nbsp;&nbsp;&nbsp; b) Accepting Parameters <br>\n",
    " &nbsp;&nbsp;&nbsp;&nbsp; c) Default Parameters <br>\n",
    " &nbsp;&nbsp;&nbsp;&nbsp; d) Making an Argument Optional <br>\n",
    " &nbsp;&nbsp;&nbsp;&nbsp; e) Keyword Arguments <br>\n",
    " &nbsp;&nbsp;&nbsp;&nbsp; f) Returning Values <br>\n",
    " &nbsp;&nbsp;&nbsp;&nbsp; g) *args <br>\n",
    " &nbsp;&nbsp;&nbsp;&nbsp; h) Docstring <br>\n",
    " &nbsp;&nbsp;&nbsp;&nbsp; i) Using a User Function in a Loop <br>\n",
    "6) Scope"
   ]
  },
  {
   "cell_type": "markdown",
   "metadata": {},
   "source": [
    "### String Manipulation"
   ]
  },
  {
   "cell_type": "code",
   "execution_count": 4,
   "metadata": {},
   "outputs": [],
   "source": [
    "bizarre_string = '                   Joao Cancelo                          '"
   ]
  },
  {
   "cell_type": "markdown",
   "metadata": {},
   "source": [
    "##### .lstrip()"
   ]
  },
  {
   "cell_type": "code",
   "execution_count": 5,
   "metadata": {},
   "outputs": [
    {
     "data": {
      "text/plain": [
       "'Joao Cancelo                          '"
      ]
     },
     "execution_count": 5,
     "metadata": {},
     "output_type": "execute_result"
    }
   ],
   "source": [
    "# string.lstrip()\n",
    "bizarre_string.lstrip()\n",
    "\n"
   ]
  },
  {
   "cell_type": "markdown",
   "metadata": {},
   "source": [
    "##### .rstrip()"
   ]
  },
  {
   "cell_type": "code",
   "execution_count": 6,
   "metadata": {},
   "outputs": [
    {
     "data": {
      "text/plain": [
       "'                   Joao Cancelo'"
      ]
     },
     "execution_count": 6,
     "metadata": {},
     "output_type": "execute_result"
    }
   ],
   "source": [
    "# string.rstrip()\n",
    "bizarre_string.rstrip()\n"
   ]
  },
  {
   "cell_type": "markdown",
   "metadata": {},
   "source": [
    "##### .strip()"
   ]
  },
  {
   "cell_type": "code",
   "execution_count": 8,
   "metadata": {},
   "outputs": [
    {
     "data": {
      "text/plain": [
       "'Joao Cancelo'"
      ]
     },
     "execution_count": 8,
     "metadata": {},
     "output_type": "execute_result"
    }
   ],
   "source": [
    "# string.strip()\n",
    "bizarre_string.strip()"
   ]
  },
  {
   "cell_type": "code",
   "execution_count": 10,
   "metadata": {},
   "outputs": [
    {
     "data": {
      "text/plain": [
       "'JOAO CANCELO'"
      ]
     },
     "execution_count": 10,
     "metadata": {},
     "output_type": "execute_result"
    }
   ],
   "source": [
    "bizarre_string = bizarre_string.strip().upper()\n",
    "bizarre_string"
   ]
  },
  {
   "cell_type": "markdown",
   "metadata": {},
   "source": [
    "##### .title()"
   ]
  },
  {
   "cell_type": "code",
   "execution_count": 11,
   "metadata": {},
   "outputs": [
    {
     "data": {
      "text/plain": [
       "'Joao Cancelo'"
      ]
     },
     "execution_count": 11,
     "metadata": {},
     "output_type": "execute_result"
    }
   ],
   "source": [
    "# string.title()\n",
    "bizarre_string.title()"
   ]
  },
  {
   "cell_type": "markdown",
   "metadata": {},
   "source": [
    "### String Exercise <br>\n",
    "<p>Strip all white space and capitalize every name in the list given</p>"
   ]
  },
  {
   "cell_type": "code",
   "execution_count": 20,
   "metadata": {},
   "outputs": [
    {
     "name": "stdout",
     "output_type": "stream",
     "text": [
      "Connor\n",
      "Max\n",
      "Evan\n",
      "Jordan\n",
      "['Connor', 'Max', 'Evan', 'Jordan']\n"
     ]
    }
   ],
   "source": [
    "names = ['    coNNor', 'max', ' EVan ', 'JORDAN']\n",
    "# HINT: You will need to use a for loop for iteration\n",
    "\n",
    "#redefine the value at each index of this list\n",
    "    #this means our loop needs to be an index loop\n",
    "\n",
    "for name in names:\n",
    "    print (name.title().strip())\n",
    "    \n",
    "#OR\n",
    "\n",
    "for i in range (len(names)):\n",
    "    names[i] = names[i].strip().title()\n",
    "    \n",
    "print (names)"
   ]
  },
  {
   "cell_type": "code",
   "execution_count": 21,
   "metadata": {},
   "outputs": [],
   "source": [
    "#We've been working with strings, now we'll be working a lot with lists\n",
    "# how do i convert a string to a list of words? a list of characters\n",
    "lineup = 'Ederson Laporte Dias Walker Cancelo Debruyne Rodri Sterling Foden Grealish Silva'"
   ]
  },
  {
   "cell_type": "code",
   "execution_count": 23,
   "metadata": {},
   "outputs": [
    {
     "data": {
      "text/plain": [
       "['Ed',\n",
       " 'rson Laport',\n",
       " ' Dias Walk',\n",
       " 'r Canc',\n",
       " 'lo D',\n",
       " 'bruyn',\n",
       " ' Rodri St',\n",
       " 'rling Fod',\n",
       " 'n Gr',\n",
       " 'alish Silva']"
      ]
     },
     "execution_count": 23,
     "metadata": {},
     "output_type": "execute_result"
    }
   ],
   "source": [
    "#str.split() method: split the string on whitespace - essentially giving us a list of words fom the original string\n",
    "# original parameter of a seperator\n",
    "\n",
    "newlist = lineup.split()\n",
    "newlist \n",
    "\n",
    "strangelist = lineup.split ('e')# this breaks the list up where there's a lowercase e\n",
    "strangelist"
   ]
  },
  {
   "cell_type": "code",
   "execution_count": 24,
   "metadata": {},
   "outputs": [
    {
     "name": "stdout",
     "output_type": "stream",
     "text": [
      "['F', 'e', 'n', 'n', 'e', 'c', ' ', 'F', 'o', 'x']\n"
     ]
    }
   ],
   "source": [
    "animal = 'Fennec Fox'\n",
    "# I want a list of the letters here\n",
    "# list()\n",
    "letters = list(animal)\n",
    "print(letters)\n",
    "\n",
    "#original variable is still the same. if you wanted to replace the original variable value . animal = list(animal )"
   ]
  },
  {
   "cell_type": "markdown",
   "metadata": {},
   "source": [
    "### Working With Lists"
   ]
  },
  {
   "cell_type": "code",
   "execution_count": 4,
   "metadata": {},
   "outputs": [
    {
     "name": "stdout",
     "output_type": "stream",
     "text": [
      "[0, 3, 6, 9, 12, 15, 18, 21, 24, 27, 30, 33, 36, 39, 42, 45, 48, 51, 54, 57, 60, 63, 66, 69, 72, 75, 78, 81, 84, 87, 90, 93, 96, 99]\n"
     ]
    }
   ],
   "source": [
    "nums = list (range (0,101,3)) #from 0 to 100 with a step of 3 between each iteration\n",
    "print(nums)\n",
    "letters = ['a', '1', 'C', 'z', 'X']\n"
   ]
  },
  {
   "cell_type": "markdown",
   "metadata": {},
   "source": [
    "##### min()"
   ]
  },
  {
   "cell_type": "code",
   "execution_count": 5,
   "metadata": {},
   "outputs": [
    {
     "data": {
      "text/plain": [
       "'1'"
      ]
     },
     "execution_count": 5,
     "metadata": {},
     "output_type": "execute_result"
    }
   ],
   "source": [
    "# min(list)\n",
    "# works exactly as you might expect for integers/numerics\n",
    "#for strings - numbers < uppercase < lowercase (generally alphabetic order)\n",
    "min(nums)\n",
    "min (letters)\n",
    "#will not work for lists of mixed datatypes\n"
   ]
  },
  {
   "cell_type": "markdown",
   "metadata": {},
   "source": [
    "##### max()"
   ]
  },
  {
   "cell_type": "code",
   "execution_count": 8,
   "metadata": {},
   "outputs": [
    {
     "data": {
      "text/plain": [
       "99"
      ]
     },
     "execution_count": 8,
     "metadata": {},
     "output_type": "execute_result"
    }
   ],
   "source": [
    "# max(list)\n",
    "max(nums)"
   ]
  },
  {
   "cell_type": "markdown",
   "metadata": {},
   "source": [
    "##### sum()"
   ]
  },
  {
   "cell_type": "code",
   "execution_count": 9,
   "metadata": {},
   "outputs": [
    {
     "data": {
      "text/plain": [
       "1683"
      ]
     },
     "execution_count": 9,
     "metadata": {},
     "output_type": "execute_result"
    }
   ],
   "source": [
    "# sum(list)\n",
    "sum(nums)\n"
   ]
  },
  {
   "cell_type": "markdown",
   "metadata": {},
   "source": [
    "##### sorted()"
   ]
  },
  {
   "cell_type": "code",
   "execution_count": 11,
   "metadata": {},
   "outputs": [
    {
     "name": "stdout",
     "output_type": "stream",
     "text": [
      "['1', 'C', 'X', 'a', 'z']\n",
      "['a', '1', 'C', 'z', 'X']\n"
     ]
    }
   ],
   "source": [
    "# sorted(list)\n",
    "# default - alphabetical order where numbers come before uppercase comes before lowercase\n",
    "# will not alter the the original list unless saved to a different/new varible via new-variable = sorted(list name)\n",
    "sorted (letters)\n",
    "sorted_letters = sorted(letters)\n",
    "#doing sorted_letters = sorted(letters.reverse=True) - how to do reverse alphabeteical order\n",
    "print(sorted_letters)\n",
    "print (letters)"
   ]
  },
  {
   "cell_type": "markdown",
   "metadata": {},
   "source": [
    "##### .sort() <br>\n",
    "<p>Difference between sort and sorted, is that sorted doesn't change original list it returns a copy, while .sort changes the original list</p>"
   ]
  },
  {
   "cell_type": "code",
   "execution_count": 13,
   "metadata": {},
   "outputs": [
    {
     "name": "stdout",
     "output_type": "stream",
     "text": [
      "['a', 'b', 'z', 'X', 'C']\n",
      "['C', 'X', 'a', 'b', 'z']\n"
     ]
    }
   ],
   "source": [
    "# list.sort() - permanent list; will not automaticall return the new list\n",
    "letters = ['a', 'b', 'z', 'X', 'C']\n",
    "print(letters)\n",
    "letters.sort()\n",
    "print (letters)\n",
    "\n",
    "# use sorted when you don't want to alter original list, use .sort() when you want to alter original list\n",
    "\n"
   ]
  },
  {
   "cell_type": "code",
   "execution_count": 16,
   "metadata": {},
   "outputs": [
    {
     "data": {
      "text/plain": [
       "[['Jack Grealish', 10],\n",
       " ['Kevin De Bruyne', 17],\n",
       " ['Bernando Silva', 21],\n",
       " ['Joao Cancelo', 27],\n",
       " ['Phil Foden', 47]]"
      ]
     },
     "execution_count": 16,
     "metadata": {},
     "output_type": "execute_result"
    }
   ],
   "source": [
    "#\n",
    "mancity = [['Phil Foden', 47], ['Joao Cancelo', 27], ['Kevin De Bruyne', 17], ['Jack Grealish', 10], ['Bernando Silva', 21]]\n",
    "mancity.sort(key = lambda x: x[1])\n",
    "# key is function \"lambda x: x[1]\" which says use the first index of the items in the list to sort the items \n",
    "mancity"
   ]
  },
  {
   "cell_type": "markdown",
   "metadata": {},
   "source": [
    "##### Copying a List"
   ]
  },
  {
   "cell_type": "code",
   "execution_count": 24,
   "metadata": {},
   "outputs": [
    {
     "ename": "IndexError",
     "evalue": "list index out of range",
     "output_type": "error",
     "traceback": [
      "\u001b[1;31m---------------------------------------------------------------------------\u001b[0m",
      "\u001b[1;31mIndexError\u001b[0m                                Traceback (most recent call last)",
      "Input \u001b[1;32mIn [24]\u001b[0m, in \u001b[0;36m<module>\u001b[1;34m\u001b[0m\n\u001b[0;32m      3\u001b[0m mancity \u001b[38;5;241m=\u001b[39m [[\u001b[38;5;124m'\u001b[39m\u001b[38;5;124mPhil Foden\u001b[39m\u001b[38;5;124m'\u001b[39m, \u001b[38;5;241m47\u001b[39m], [\u001b[38;5;124m'\u001b[39m\u001b[38;5;124mJoao Cancelo\u001b[39m\u001b[38;5;124m'\u001b[39m,\u001b[38;5;241m27\u001b[39m], [\u001b[38;5;124m'\u001b[39m\u001b[38;5;124mBernando Silva,17\u001b[39m\u001b[38;5;124m'\u001b[39m], [\u001b[38;5;124m'\u001b[39m\u001b[38;5;124mJack Grealish\u001b[39m\u001b[38;5;124m'\u001b[39m, \u001b[38;5;241m10\u001b[39m], [\u001b[38;5;124m'\u001b[39m\u001b[38;5;124mBernando Silva\u001b[39m\u001b[38;5;124m'\u001b[39m,\u001b[38;5;241m21\u001b[39m]]\n\u001b[0;32m      4\u001b[0m copy \u001b[38;5;241m=\u001b[39m mancity[:]\n\u001b[1;32m----> 5\u001b[0m \u001b[43mcopy\u001b[49m\u001b[38;5;241;43m.\u001b[39;49m\u001b[43msort\u001b[49m\u001b[43m(\u001b[49m\u001b[43mkey\u001b[49m\u001b[43m \u001b[49m\u001b[38;5;241;43m=\u001b[39;49m\u001b[43m \u001b[49m\u001b[38;5;28;43;01mlambda\u001b[39;49;00m\u001b[43m \u001b[49m\u001b[43mx\u001b[49m\u001b[43m:\u001b[49m\u001b[43m \u001b[49m\u001b[43mx\u001b[49m\u001b[43m[\u001b[49m\u001b[38;5;241;43m1\u001b[39;49m\u001b[43m]\u001b[49m\u001b[43m)\u001b[49m\n\u001b[0;32m      6\u001b[0m \u001b[38;5;28mprint\u001b[39m(mancity)\n\u001b[0;32m      7\u001b[0m \u001b[38;5;28mprint\u001b[39m(copy)\n",
      "Input \u001b[1;32mIn [24]\u001b[0m, in \u001b[0;36m<lambda>\u001b[1;34m(x)\u001b[0m\n\u001b[0;32m      3\u001b[0m mancity \u001b[38;5;241m=\u001b[39m [[\u001b[38;5;124m'\u001b[39m\u001b[38;5;124mPhil Foden\u001b[39m\u001b[38;5;124m'\u001b[39m, \u001b[38;5;241m47\u001b[39m], [\u001b[38;5;124m'\u001b[39m\u001b[38;5;124mJoao Cancelo\u001b[39m\u001b[38;5;124m'\u001b[39m,\u001b[38;5;241m27\u001b[39m], [\u001b[38;5;124m'\u001b[39m\u001b[38;5;124mBernando Silva,17\u001b[39m\u001b[38;5;124m'\u001b[39m], [\u001b[38;5;124m'\u001b[39m\u001b[38;5;124mJack Grealish\u001b[39m\u001b[38;5;124m'\u001b[39m, \u001b[38;5;241m10\u001b[39m], [\u001b[38;5;124m'\u001b[39m\u001b[38;5;124mBernando Silva\u001b[39m\u001b[38;5;124m'\u001b[39m,\u001b[38;5;241m21\u001b[39m]]\n\u001b[0;32m      4\u001b[0m copy \u001b[38;5;241m=\u001b[39m mancity[:]\n\u001b[1;32m----> 5\u001b[0m copy\u001b[38;5;241m.\u001b[39msort(key \u001b[38;5;241m=\u001b[39m \u001b[38;5;28;01mlambda\u001b[39;00m x: \u001b[43mx\u001b[49m\u001b[43m[\u001b[49m\u001b[38;5;241;43m1\u001b[39;49m\u001b[43m]\u001b[49m)\n\u001b[0;32m      6\u001b[0m \u001b[38;5;28mprint\u001b[39m(mancity)\n\u001b[0;32m      7\u001b[0m \u001b[38;5;28mprint\u001b[39m(copy)\n",
      "\u001b[1;31mIndexError\u001b[0m: list index out of range"
     ]
    }
   ],
   "source": [
    "# [:] copies a list, doesn't alter original\n",
    "# techinically list slicing the entire list\n",
    "mancity = [['Phil Foden', 47], ['Joao Cancelo',27], ['Bernando Silva,17'], ['Jack Grealish', 10], ['Bernando Silva',21]]\n",
    "copy = mancity[:]\n",
    "copy.sort(key = lambda x: x[1])\n",
    "print(mancity)\n",
    "print(copy)"
   ]
  },
  {
   "cell_type": "markdown",
   "metadata": {},
   "source": [
    "##### 'in' keyword"
   ]
  },
  {
   "cell_type": "code",
   "execution_count": null,
   "metadata": {},
   "outputs": [
    {
     "name": "stdout",
     "output_type": "stream",
     "text": [
      "['a', 'b', 'z', 'C', 'X']\n",
      "membership tests are useful\n"
     ]
    }
   ],
   "source": [
    "#membership tests\n",
    "#perform differently depending on what they are doing the test on\n",
    "letters = ['a','b','z', 'C', 'X']\n",
    "print(letters)\n",
    "if 'X' in letters:\n",
    "    print ('membership tests are useful')"
   ]
  },
  {
   "cell_type": "markdown",
   "metadata": {},
   "source": [
    "##### 'not in' keyword"
   ]
  },
  {
   "cell_type": "code",
   "execution_count": null,
   "metadata": {},
   "outputs": [
    {
     "name": "stdout",
     "output_type": "stream",
     "text": [
      "orange is not a letter\n"
     ]
    }
   ],
   "source": [
    "if 'orange' not in letters:\n",
    "    print ('orange is not a letter')"
   ]
  },
  {
   "cell_type": "markdown",
   "metadata": {},
   "source": []
  },
  {
   "cell_type": "code",
   "execution_count": null,
   "metadata": {},
   "outputs": [
    {
     "name": "stdout",
     "output_type": "stream",
     "text": [
      "this is essentially a membership test just written out with our code\n"
     ]
    }
   ],
   "source": [
    "#how can I determine if a player name is in the mancity list of lists?\n",
    "#use a for loop and a conditional\n",
    "for player in mancity:\n",
    "    if player[0] == 'Phil Foden':\n",
    "        print ('this is essentially a membership test just written out with our code')"
   ]
  },
  {
   "cell_type": "code",
   "execution_count": null,
   "metadata": {},
   "outputs": [],
   "source": [
    "def playerTest(team, name):  \n",
    "    for player in name:\n",
    "        if player[0] == 'Phil Foden':\n",
    "            print ('this is essentially a membership test just written out with our code')\n",
    "\n",
    "playerTest([['Ederson Moraes', 1], ['Kyle Walker', 2], ['Raheem Sterling', 12], ['Joao Cancelo']], 'Joao Cancelo')"
   ]
  },
  {
   "cell_type": "markdown",
   "metadata": {},
   "source": [
    "##### Checking an Empty List"
   ]
  },
  {
   "cell_type": "code",
   "execution_count": null,
   "metadata": {},
   "outputs": [],
   "source": [
    "# if l_1: or if l_1 = []\n",
    "\n",
    "emptylist = []\n",
    "if not emptylist:\n",
    "    print('an empty list is inherently false')"
   ]
  },
  {
   "cell_type": "markdown",
   "metadata": {},
   "source": [
    "##### Removing Instances with a Loop"
   ]
  },
  {
   "cell_type": "code",
   "execution_count": null,
   "metadata": {},
   "outputs": [
    {
     "name": "stdout",
     "output_type": "stream",
     "text": [
      "['Tiger Shark', 'Polar Bear', 'Grizzly Bear', 'Bear Bear', 'Bear Bear', 'Panda Bear', 'Red Panda', 'Bear Bear']\n",
      "['Tiger Shark', 'Polar Bear', 'Grizzly Bear', 'Panda Bear', 'Red Panda']\n"
     ]
    }
   ],
   "source": [
    "# while, remove\n",
    "\n",
    "animals = ['Tiger Shark', 'Polar Bear', 'Grizzly Bear', 'Bear Bear', 'Bear Bear', 'Panda Bear', 'Red Panda', 'Bear Bear']\n",
    "\n",
    "#remove all instances of 'Bear Bear'\n",
    "print(animals)\n",
    "\n",
    "while 'Bear Bear' in animals:\n",
    "    animals.remove('Bear Bear')\n",
    "\n",
    "print (animals)"
   ]
  },
  {
   "cell_type": "code",
   "execution_count": null,
   "metadata": {},
   "outputs": [
    {
     "name": "stdout",
     "output_type": "stream",
     "text": [
      "['Tiger Shark', 'Polar Bear', 'Grizzly Bear', 'Bear Bear', 'Bear Bear', 'Panda Bear', 'Red Panda', 'Bear Bear', 'Bear Bear']\n",
      "['Tiger Shark', 'Polar Bear', 'Grizzly Bear', 'Panda Bear', 'Red Panda', 'Bear Bear', 'Bear Bear']\n"
     ]
    }
   ],
   "source": [
    "animals = ['Tiger Shark', 'Polar Bear', 'Grizzly Bear', 'Bear Bear', 'Bear Bear', 'Panda Bear', 'Red Panda', 'Bear Bear', 'Bear Bear']\n",
    "\n",
    "print(animals)\n",
    "\n",
    "for a in animals:\n",
    "    if a == \"Bear Bear\":\n",
    "        animals.remove ('Bear Bear')\n",
    "print(animals)"
   ]
  },
  {
   "cell_type": "code",
   "execution_count": null,
   "metadata": {},
   "outputs": [],
   "source": [
    "animals = ['Tiger Shark', 'Polar Bear', 'Grizzly Bear', 'Bear Bear', 'Bear Bear', 'Panda Bear', 'Red Panda', 'Bear Bear']\n",
    "# first thought - let's use a for loop and jsust tsay \n"
   ]
  },
  {
   "cell_type": "code",
   "execution_count": null,
   "metadata": {},
   "outputs": [],
   "source": [
    "animals = ['Tiger Shark', 'Polar Bear', 'Grizzly Bear', 'Bear Bear', 'Bear Bear', 'Panda Bear', 'Red Panda', 'Bear Bear']\n",
    "i = 0 # pointer variable\n",
    "while i < len(animals):\n",
    "    if animals[i] == 'Bear Bear':\n",
    "        animals.pop(i)\n",
    "    else: \n",
    "        i += 1\n",
    "print(animals)"
   ]
  },
  {
   "cell_type": "markdown",
   "metadata": {},
   "source": [
    "### List Exercise <br>\n",
    "<p>Remove all duplicates<br><b>Extra: Create a program that will remove any duplicates from a given list</b></p>"
   ]
  },
  {
   "cell_type": "code",
   "execution_count": null,
   "metadata": {},
   "outputs": [
    {
     "name": "stdout",
     "output_type": "stream",
     "text": [
      "['connor', 'bob', 'evan', 'max', 2, 3, 4, 'kevin']\n"
     ]
    }
   ],
   "source": [
    "#Part 1\n",
    "\n",
    "names = ['connor', 'connor', 'bob', 'connor', 'evan', 'max', 'evan', 2, 2, 2, 3, 3, 4, 'bob', 'kevin']\n",
    "# Hint 1: You will need an append\n",
    "# Hint 2: Using an empty list will make life easier\n",
    "short_list = []\n",
    "for name in names:\n",
    "    if name not in short_list:\n",
    "        short_list.append(name)\n",
    "\n",
    "print (short_list)\n"
   ]
  },
  {
   "cell_type": "code",
   "execution_count": null,
   "metadata": {},
   "outputs": [
    {
     "name": "stdout",
     "output_type": "stream",
     "text": [
      "['connor', 'bob', 'evan', 'max', 2, 3, 4, 'kevin']\n"
     ]
    }
   ],
   "source": [
    "#Part 2\n",
    "def no_dupes(names):\n",
    "    short_list = []\n",
    "    for name in names:\n",
    "        if name not in short_list:\n",
    "            short_list.append(name)\n",
    "\n",
    "print (short_list)\n",
    "no_dupes(names)"
   ]
  },
  {
   "cell_type": "code",
   "execution_count": null,
   "metadata": {},
   "outputs": [
    {
     "name": "stdout",
     "output_type": "stream",
     "text": [
      "['connor', 'bob', 'evan', 'max', 2, 3, 4, 'kevin']\n"
     ]
    }
   ],
   "source": [
    "result = [] \n",
    "[result.append(x) for x in names if x not in result] \n",
    "\n",
    "print (str(result))\n"
   ]
  },
  {
   "cell_type": "markdown",
   "metadata": {},
   "source": [
    "### List Comprehensions <br>\n",
    "<p>Creating a quickly generated list to work with<br>*result*  = [*transform*    *iteration*         *filter*     ]</p>"
   ]
  },
  {
   "cell_type": "markdown",
   "metadata": {},
   "source": [
    "##### In a list comprehension we have a few pieces:\n",
    "1. The first is the counter/ variable - IN this the variable is x\n",
    "2. then we have a transform for the variable\n",
    "3. The finale part of a list comp is called the condition\n",
    "\n",
    "```python\n",
    "    [variable, transform, condition]\n",
    "```"
   ]
  },
  {
   "cell_type": "code",
   "execution_count": null,
   "metadata": {},
   "outputs": [
    {
     "name": "stdout",
     "output_type": "stream",
     "text": [
      "[2, 3, 4, 5, 6, 7, 8, 9, 10, 11, 12, 13, 14]\n",
      "[4, 16, 36, 64, 100, 144, 196]\n",
      "[4, 16, 36, 64, 100, 144, 196]\n"
     ]
    }
   ],
   "source": [
    "# number comprehension\n",
    "nums = list (range(2,15))\n",
    "print(nums)\n",
    "# With a regular for loop\n",
    "squares = []\n",
    "for x in nums:\n",
    "    if x**2 % 2 == 0: #if the square is even\n",
    "        squares.append(x**2)\n",
    "print (squares)\n",
    "\n",
    "# IN a list comprehension we have a few pieces:\n",
    "# The first is the counter/ variable - IN this the variable is x\n",
    "# Then we have a transform for the variable \n",
    "# The finale part of a list comp is called the condition\n",
    "#[variable, transform, condition]\n",
    "\n",
    "\n",
    "squares = [x**2 for x in nums if x**2 % 2 == 0]\n",
    "print(squares)\n",
    "\n"
   ]
  },
  {
   "cell_type": "markdown",
   "metadata": {},
   "source": [
    "There are a few benefits to using List comprehensions. The most obvious would be that we now have shorter code to work with instead of using 3+ lines of code in the for loop variant.\n",
    "\n",
    "Another is an added benefit to memory usage. Since the list's memory is allocated first before adding elements to it, we don't have to resize the list once we add elements to it.\n",
    "\n",
    "Lastly, list comprehensions are considered the \"pythonic\" way to write code by the PEP8 standards (Python Style Guide)"
   ]
  },
  {
   "cell_type": "code",
   "execution_count": 30,
   "metadata": {},
   "outputs": [],
   "source": [
    "# square number comprehension\n",
    "\n"
   ]
  },
  {
   "cell_type": "code",
   "execution_count": 31,
   "metadata": {},
   "outputs": [
    {
     "ename": "IndexError",
     "evalue": "list index out of range",
     "output_type": "error",
     "traceback": [
      "\u001b[1;31m---------------------------------------------------------------------------\u001b[0m",
      "\u001b[1;31mIndexError\u001b[0m                                Traceback (most recent call last)",
      "Input \u001b[1;32mIn [31]\u001b[0m, in \u001b[0;36m<module>\u001b[1;34m\u001b[0m\n\u001b[0;32m      2\u001b[0m mancity \u001b[38;5;241m=\u001b[39m[[\u001b[38;5;124m'\u001b[39m\u001b[38;5;124mPhil Foden\u001b[39m\u001b[38;5;124m'\u001b[39m, \u001b[38;5;241m47\u001b[39m], [\u001b[38;5;124m'\u001b[39m\u001b[38;5;124mJoao Cancelo\u001b[39m\u001b[38;5;124m'\u001b[39m, \u001b[38;5;241m27\u001b[39m], [\u001b[38;5;124m'\u001b[39m\u001b[38;5;124mBernando Silva,17\u001b[39m\u001b[38;5;124m'\u001b[39m], [\u001b[38;5;124m'\u001b[39m\u001b[38;5;124mJack Grealish\u001b[39m\u001b[38;5;124m'\u001b[39m, \u001b[38;5;241m10\u001b[39m], [\u001b[38;5;124m'\u001b[39m\u001b[38;5;124mBernando Silva\u001b[39m\u001b[38;5;124m'\u001b[39m, \u001b[38;5;241m21\u001b[39m]]\n\u001b[0;32m      4\u001b[0m \u001b[38;5;66;03m#I just want player names\u001b[39;00m\n\u001b[1;32m----> 5\u001b[0m names \u001b[38;5;241m=\u001b[39m [x[\u001b[38;5;241m0\u001b[39m] \u001b[38;5;28;01mfor\u001b[39;00m x \u001b[38;5;129;01min\u001b[39;00m mancity \u001b[38;5;28;01mif\u001b[39;00m x[\u001b[38;5;241m1\u001b[39m] \u001b[38;5;241m>\u001b[39m \u001b[38;5;241m20\u001b[39m]\n\u001b[0;32m      8\u001b[0m names\n",
      "Input \u001b[1;32mIn [31]\u001b[0m, in \u001b[0;36m<listcomp>\u001b[1;34m(.0)\u001b[0m\n\u001b[0;32m      2\u001b[0m mancity \u001b[38;5;241m=\u001b[39m[[\u001b[38;5;124m'\u001b[39m\u001b[38;5;124mPhil Foden\u001b[39m\u001b[38;5;124m'\u001b[39m, \u001b[38;5;241m47\u001b[39m], [\u001b[38;5;124m'\u001b[39m\u001b[38;5;124mJoao Cancelo\u001b[39m\u001b[38;5;124m'\u001b[39m, \u001b[38;5;241m27\u001b[39m], [\u001b[38;5;124m'\u001b[39m\u001b[38;5;124mBernando Silva,17\u001b[39m\u001b[38;5;124m'\u001b[39m], [\u001b[38;5;124m'\u001b[39m\u001b[38;5;124mJack Grealish\u001b[39m\u001b[38;5;124m'\u001b[39m, \u001b[38;5;241m10\u001b[39m], [\u001b[38;5;124m'\u001b[39m\u001b[38;5;124mBernando Silva\u001b[39m\u001b[38;5;124m'\u001b[39m, \u001b[38;5;241m21\u001b[39m]]\n\u001b[0;32m      4\u001b[0m \u001b[38;5;66;03m#I just want player names\u001b[39;00m\n\u001b[1;32m----> 5\u001b[0m names \u001b[38;5;241m=\u001b[39m [x[\u001b[38;5;241m0\u001b[39m] \u001b[38;5;28;01mfor\u001b[39;00m x \u001b[38;5;129;01min\u001b[39;00m mancity \u001b[38;5;28;01mif\u001b[39;00m \u001b[43mx\u001b[49m\u001b[43m[\u001b[49m\u001b[38;5;241;43m1\u001b[39;49m\u001b[43m]\u001b[49m \u001b[38;5;241m>\u001b[39m \u001b[38;5;241m20\u001b[39m]\n\u001b[0;32m      8\u001b[0m names\n",
      "\u001b[1;31mIndexError\u001b[0m: list index out of range"
     ]
    }
   ],
   "source": [
    "# string comprehension\n",
    "mancity =[['Phil Foden', 47], ['Joao Cancelo', 27], ['Bernando Silva,17'], ['Jack Grealish', 10], ['Bernando Silva', 21]]\n",
    "\n",
    "#I just want player names\n",
    "names = [x[0] for x in mancity if x[1] > 20]\n",
    "\n",
    "\n",
    "names\n"
   ]
  },
  {
   "cell_type": "markdown",
   "metadata": {},
   "source": [
    "### Tuples <br>\n",
    "<p><b>Defined as an immutable list</b></p><br>Seperated by commas using parenthesis"
   ]
  },
  {
   "cell_type": "code",
   "execution_count": null,
   "metadata": {},
   "outputs": [],
   "source": []
  },
  {
   "cell_type": "markdown",
   "metadata": {},
   "source": [
    "##### sorted()"
   ]
  },
  {
   "cell_type": "code",
   "execution_count": null,
   "metadata": {},
   "outputs": [],
   "source": []
  },
  {
   "cell_type": "markdown",
   "metadata": {},
   "source": [
    "##### Adding values to a Tuple"
   ]
  },
  {
   "cell_type": "code",
   "execution_count": null,
   "metadata": {},
   "outputs": [],
   "source": []
  },
  {
   "cell_type": "markdown",
   "metadata": {},
   "source": [
    "## Functions"
   ]
  },
  {
   "cell_type": "markdown",
   "metadata": {},
   "source": [
    "##### User-Defined vs. Built-In Functions"
   ]
  },
  {
   "cell_type": "code",
   "execution_count": 26,
   "metadata": {},
   "outputs": [
    {
     "data": {
      "text/plain": [
       "'c'"
      ]
     },
     "execution_count": 26,
     "metadata": {},
     "output_type": "execute_result"
    }
   ],
   "source": [
    "#that is not tied to a specific class or a specific module (aka doesn't require an import)\n",
    "    #don't use the names of built in functions for your own functions or variables\n",
    "    #you will be overwriting the normal behavior\n",
    "    \n",
    "#other examples of what we sometimes consider built-ins\n",
    "#are class methods of built-in classes\n",
    "    #strings, lists -> those classes have specific functions that only work for them\n",
    "    # example: str.join() str.split() list.sort()\n",
    "    # class methods - functions tied to a class\n",
    "# imported functions from modules\n",
    "from random import choice\n",
    "choice (['a','b','c'])"
   ]
  },
  {
   "cell_type": "code",
   "execution_count": 28,
   "metadata": {},
   "outputs": [
    {
     "ename": "TypeError",
     "evalue": "func_name() missing 2 required positional arguments: 'parameter_A' and 'parameter_B'",
     "output_type": "error",
     "traceback": [
      "\u001b[1;31m---------------------------------------------------------------------------\u001b[0m",
      "\u001b[1;31mTypeError\u001b[0m                                 Traceback (most recent call last)",
      "Input \u001b[1;32mIn [28]\u001b[0m, in \u001b[0;36m<module>\u001b[1;34m\u001b[0m\n\u001b[0;32m     11\u001b[0m     \u001b[38;5;28;01mreturn\u001b[39;00m (\u001b[38;5;124m'\u001b[39m\u001b[38;5;124mfunction call turns into the return value\u001b[39m\u001b[38;5;124m'\u001b[39m)\n\u001b[0;32m     12\u001b[0m \u001b[38;5;66;03m#that was defining a function. need to call it in order for it to do something\u001b[39;00m\n\u001b[1;32m---> 14\u001b[0m save_return_value \u001b[38;5;241m=\u001b[39m \u001b[43mfunc_name\u001b[49m\u001b[43m(\u001b[49m\u001b[43m)\u001b[49m\n\u001b[0;32m     15\u001b[0m \u001b[38;5;28mprint\u001b[39m (save_return_val)\n",
      "\u001b[1;31mTypeError\u001b[0m: func_name() missing 2 required positional arguments: 'parameter_A' and 'parameter_B'"
     ]
    }
   ],
   "source": [
    "#user defined function is at the end of the day the exact same as a built-in, just that we write the code for it\n",
    "#we can make a user-defined function standalone\n",
    "#we can make a user-defined function that is a class method tied to a specific class\n",
    "#we can make a module that we can import to a different file\n",
    "#ALL of those options are just goin to be done by defining a function at a certain location in our code\n",
    "#how do we define a function?\n",
    "\n",
    "def func_name (parameter_A, parameter_B):\n",
    "    # process\n",
    "    print (' this function runs the code in its code block')\n",
    "    return ('function call turns into the return value')\n",
    "#that was defining a function. need to call it in order for it to do something\n",
    "\n",
    "save_return_value = func_name(a,b)\n",
    "print (save_return_val)"
   ]
  },
  {
   "cell_type": "code",
   "execution_count": null,
   "metadata": {},
   "outputs": [],
   "source": [
    "# return vs print\n",
    "# the whole difference is who we are benefitting\n",
    "# print is only to help you as a developer. for the computer, print doesn't do anything. just shows us as developer what is happening\n",
    "# return is actively moving data\n",
    "    #if we have a value that exists inside of a function\n",
    "    # it techinically does not exist outside of that function unless passed there\n",
    "    # with a return\n",
    "    # more on this idea later when we talk a bout scope\n",
    "    \n",
    "def thing():\n",
    "    x=5\n",
    "print (x) #--> wont work because x only works inside function thing. need to call the function \n",
    "\n",
    "def thing ():\n",
    "    x=5 #x is only defined inside the function\n",
    "    return x\n",
    "outside_x = thing() # if i want to use the value of x outside of the function, I must reutnr x from the function\n",
    "print (outside_x)\n",
    "\n",
    "#unless your function is changing some original piece of data (aka an in-place modification)\n",
    "#it probably needs a return statement"
   ]
  },
  {
   "cell_type": "markdown",
   "metadata": {},
   "source": [
    "##### Accepting Parameters"
   ]
  },
  {
   "cell_type": "code",
   "execution_count": 29,
   "metadata": {},
   "outputs": [
    {
     "ename": "NameError",
     "evalue": "name 'parameter_A' is not defined",
     "output_type": "error",
     "traceback": [
      "\u001b[1;31m---------------------------------------------------------------------------\u001b[0m",
      "\u001b[1;31mNameError\u001b[0m                                 Traceback (most recent call last)",
      "Input \u001b[1;32mIn [29]\u001b[0m, in \u001b[0;36m<module>\u001b[1;34m\u001b[0m\n\u001b[0;32m      8\u001b[0m     \u001b[38;5;28;01mreturn\u001b[39;00m parameter_A \u001b[38;5;241m+\u001b[39m parameter_B\n\u001b[0;32m     10\u001b[0m \u001b[38;5;66;03m# parameter_A = 5 ; parameter_B = 7 --> doing this would set hard limits on the capabilities on the function\u001b[39;00m\n\u001b[1;32m---> 12\u001b[0m addStuff (\u001b[43mparameter_A\u001b[49m, parameter_B)\n\u001b[0;32m     14\u001b[0m \u001b[38;5;66;03m#when we define parameters\u001b[39;00m\n\u001b[0;32m     15\u001b[0m     \u001b[38;5;66;03m#we are defining them with the intent of that paramenter being any vale of a certain datatype\u001b[39;00m\n\u001b[0;32m     16\u001b[0m     \n\u001b[1;32m   (...)\u001b[0m\n\u001b[0;32m     22\u001b[0m         \u001b[38;5;66;03m# OR\u001b[39;00m\n\u001b[0;32m     23\u001b[0m         \u001b[38;5;66;03m# 2 lists\u001b[39;00m\n\u001b[0;32m     25\u001b[0m A\u001b[38;5;241m=\u001b[39m\u001b[38;5;241m5\u001b[39m\n",
      "\u001b[1;31mNameError\u001b[0m: name 'parameter_A' is not defined"
     ]
    }
   ],
   "source": [
    "# aka input to a function\n",
    "# also called arguments\n",
    "# if we have data that exists outside of a function\n",
    "# that we intend to use in the function.\n",
    "# we must set up a parameter such that the function can accept input/values from outside\n",
    "# set up parameters when we define the function 1\n",
    "def addStuff (parameter_A, parameter_B):\n",
    "    return parameter_A + parameter_B\n",
    "\n",
    "# parameter_A = 5 ; parameter_B = 7 --> doing this would set hard limits on the capabilities on the function\n",
    "\n",
    "addStuff (parameter_A, parameter_B)\n",
    "\n",
    "#when we define parameters\n",
    "    #we are defining them with the intent of that paramenter being any vale of a certain datatype\n",
    "    \n",
    "#set up paramenters when we define the function\n",
    "    #in this scenario - parameter_A and parameter_B are intended to be\n",
    "        # 2 integers or floats\n",
    "        # OR\n",
    "        # 2 strings\n",
    "        # OR\n",
    "        # 2 lists\n",
    "        \n",
    "A=5\n",
    "B=7\n",
    "\n",
    "print (addStuff(A,B))# we can call a function passing variables as the values of ________________"
   ]
  },
  {
   "cell_type": "code",
   "execution_count": null,
   "metadata": {},
   "outputs": [],
   "source": [
    "# primary set up of parameters that we use in python is positional arguments\n",
    "# python knows which value in the function call is for which parameter\n",
    "# based on their position\n",
    "\n",
    "def vroom (p_Driver, p_Team, p_Car):\n",
    "    return f'{p_Driver} drives the {p_Car} for {p_Team}.'\n",
    "\n",
    "vroom ('Ferrari', 'SF1000', 'Charles LeClerc')\n",
    "\n",
    "#the values placed in the function call must mirror the parameters in the function definition\n",
    "# and when I say must mirror - I mean must mirror\n",
    "# if the function takes in 3 parameters\n",
    "# we must provide 3 parameters\n",
    "\n",
    "# too few -> missing required positional arguments error\n",
    "# too many -> takes X positional arguments but Y were given Error\n",
    "vroom ('Ferrari', 'SF1000', 'Charles LeClerc', 'Speed is Fun')\n"
   ]
  },
  {
   "cell_type": "markdown",
   "metadata": {},
   "source": [
    "##### Default Parameters"
   ]
  },
  {
   "cell_type": "code",
   "execution_count": null,
   "metadata": {},
   "outputs": [],
   "source": [
    "## Default paramenters\n",
    "def dog(name, breed, color, paws =4):\n",
    "    return f'This is {name}. They are a {color} {breed} with {paws} paws.'\n",
    "\n",
    "print(dog ('Sir Henry James of Pailey', 'English Springer Spaniel', 'black and white', 'four'))\n",
    "\n",
    "print(dog ('Sir Wesley Charles of Nottingham', 'English Springer Spaniel', 'black and white'))\n",
    "\n",
    "print (dog ('Balto', 'Siberian Husky', 'grey and white'))\n",
    "\n",
    "print (dog ('Rex', 'Yellow Lab', 'yellow', 'two'))\n",
    "\n",
    "# setting a default parameter is essentially just a doing some varibale definition/assisnment in the def line of the function defition\n",
    "# a default parameter/arugment must come after all non-default parameters or you will get an error message "
   ]
  },
  {
   "cell_type": "markdown",
   "metadata": {},
   "source": [
    "##### Making an Argument Optional"
   ]
  },
  {
   "cell_type": "code",
   "execution_count": null,
   "metadata": {},
   "outputs": [],
   "source": [
    "# not really any different than a default parameter\n",
    "# we're just setting up the default so that it appears to have no effect\n",
    "# the default value of reverse is false\n",
    "# so in the code for the sorted () function there is a conditional that says\n",
    "    #if reverse:\n",
    "        #do some stuff to reverse sorting order\n",
    "# lets say we wanted to take the dog function above and make paws truly optional\n",
    "def dog(name, breed, color='white', paws = None):\n",
    "    if paws:\n",
    "        return f'This is {name}. They are a {color} {breed} with {paws} paws :\"('\n",
    "    return f'This is {name}. They are a {color} {breed}.'\n",
    "    \n",
    "print(dog ('Sir Henry James of Pailey', 'English Springer Spaniel', 'black and white'))\n",
    "\n",
    "print(dog ('Sir Wesley Charles of Nottingham', 'English Springer Spaniel', 'black and white'))\n",
    "\n",
    "print (dog ('Balto', 'Siberian Husky', 'grey and white'))\n",
    "\n",
    "print (dog ('Rex', 'Yellow Lab', 'yellow', 'two'))"
   ]
  },
  {
   "cell_type": "markdown",
   "metadata": {},
   "source": [
    "##### Keyword Arguments"
   ]
  },
  {
   "cell_type": "code",
   "execution_count": null,
   "metadata": {},
   "outputs": [],
   "source": [
    "# last_name='Max', first_name='Smith' in the function call\n",
    "\n",
    "def dog(name, breed, color='white', paws = None):\n",
    "    if paws:\n",
    "        return f'This is {name}. They are a {color} {breed} with {paws} paws :\"('\n",
    "    return f'This is {name}. They are a {color} {breed}.'\n",
    "\n",
    "print (dog('Rex', 'Samoyed', paws='two')) #we're usign the default for color but not for paws by using a keyword argument\n",
    "\n",
    "#if we wanted to could all keyword arguemnts\n",
    "# keyword arguments don't need to be in a specfic position if not using any positional arguemtns\n",
    "\n",
    "print (dog(paws='four', breed= 'Samoyed', color = 'white', name='Cloud')) \n"
   ]
  },
  {
   "cell_type": "markdown",
   "metadata": {},
   "source": [
    "# Creating a start, stop, step function"
   ]
  },
  {
   "cell_type": "code",
   "execution_count": null,
   "metadata": {},
   "outputs": [],
   "source": []
  },
  {
   "cell_type": "markdown",
   "metadata": {},
   "source": [
    "##### Returning Values"
   ]
  },
  {
   "cell_type": "code",
   "execution_count": null,
   "metadata": {},
   "outputs": [],
   "source": []
  },
  {
   "cell_type": "markdown",
   "metadata": {},
   "source": [
    "##### *args"
   ]
  },
  {
   "cell_type": "code",
   "execution_count": 15,
   "metadata": {},
   "outputs": [
    {
     "data": {
      "text/plain": [
       "67134"
      ]
     },
     "execution_count": 15,
     "metadata": {},
     "output_type": "execute_result"
    }
   ],
   "source": [
    "# # of parameters should equal # of arguments\n",
    "# what if we dont know the number of arguments\n",
    "# say you want to create a function to sum any number of integers\n",
    "# this would be a + b, b + c, or a + b + c +d\n",
    "# aka number of inputs is variable\n",
    "\n",
    "# to use *args - name a parameter *_____\n",
    "def intSum (*numbers):\n",
    "    total = 0\n",
    "    for x in numbers: \n",
    "        total += x\n",
    "    return total\n",
    "    \n",
    "# pass however many single arguments you want into the function call\n",
    "# or pass a list\n",
    "intSum(50, 70, 310, 502, 3105, 63097)"
   ]
  },
  {
   "cell_type": "code",
   "execution_count": 17,
   "metadata": {},
   "outputs": [],
   "source": [
    "# we can use *args alongside positional and keyword arguments if we want\n",
    "# however a note on that idea - the  order must be positional args -> default/keyword args -> *args\n",
    "\n",
    "def some_function (*args, p1, p2, p3= True): # bad\n",
    "    pass\n",
    "def some_good_function (p1, p2, p3 = True, *args): #good\n",
    "    pass"
   ]
  },
  {
   "cell_type": "code",
   "execution_count": null,
   "metadata": {},
   "outputs": [],
   "source": [
    "#**kwargs\n",
    "# used similar to args when you want to provide a variable/arbitrary number of keyword arguments\n",
    "# usually done in the form of a dictionary\n",
    "# more on **kwargs tomorrow"
   ]
  },
  {
   "cell_type": "markdown",
   "metadata": {},
   "source": [
    "##### Docstring"
   ]
  },
  {
   "cell_type": "code",
   "execution_count": null,
   "metadata": {},
   "outputs": [],
   "source": [
    "# a way to inclde a description/built-in documentation of a UDF (user-defined function)\n",
    "# the docstring will be accessible if help () or ? is used on the function\n",
    "\n",
    "def return Greater (x, y):\n",
    "    \"\"\"\n",
    "    Accepts two integers x and y . returns the larger of the two integers.\n",
    "    \"\"\"\n",
    "    if x > y:\n",
    "        return x\n",
    "    else:\n",
    "        return y\n",
    "    \n",
    "help (returnGreater)\n",
    "help(Range)"
   ]
  },
  {
   "cell_type": "markdown",
   "metadata": {},
   "source": [
    "##### Using a User Function in a Loop"
   ]
  },
  {
   "cell_type": "code",
   "execution_count": null,
   "metadata": {},
   "outputs": [],
   "source": [
    "def hello(name):\n",
    "    return f'Hello, {name.title()}!'\n",
    "\n",
    "students = ['Patrick', 'Lamont', 'Amir', 'Brandt', 'Elif', 'Kyle', 'Tiger', 'Tach', 'Cameron', 'Komal']\n",
    "# the input for hello () is intended to be a string\n",
    "# students is a list of strings\n",
    "# I can loop through students and call helo on each string in students\n",
    "\n",
    "for s in students:\n",
    "    print (hello(s))"
   ]
  },
  {
   "cell_type": "markdown",
   "metadata": {},
   "source": [
    "## Function Exercise <br>\n",
    "<p>Write a function that loops through a list of first_names and a list of last_names, combines the two and return a list of full_names</p>"
   ]
  },
  {
   "cell_type": "code",
   "execution_count": 25,
   "metadata": {},
   "outputs": [
    {
     "name": "stdout",
     "output_type": "stream",
     "text": [
      "a b\n",
      "['John Smith']\n"
     ]
    }
   ],
   "source": [
    "first_name = ['John', 'Evan', 'Jordan', 'Max']\n",
    "last_name = ['Smith', 'Smith', 'Williams', 'Bell']\n",
    "\n",
    "# Output: ['John Smith', 'Evan Smith', 'Jordan Williams', 'Max Bell']\n",
    "\n",
    "\n",
    "#input: fnames<list of strings>, lnames <list of strings>\n",
    "#output: ['John Smith', 'Evan Smith', 'Jordan Smith', 'Max Bell']\n",
    "\n",
    "# access the related names by useing their same index number in their different lists\n",
    "def fullname (fnames, lnames):\n",
    "    names =[]\n",
    "    for i in range(len(fnames)):\n",
    "        names.append(fnames[i] + ' ' + lnames[i])\n",
    "        return names\n",
    "\n",
    "# I need to take two strings and turn them into a single string separted by a space\n",
    "# string concatenation\n",
    "print ('a' + ' ' + 'b')\n",
    "\n",
    "# add a string to a slist\n",
    "#list.append(string)\n",
    "\n",
    "exercise_answer = fullname(first_name, last_name)\n",
    "print (exercise_answer)"
   ]
  },
  {
   "cell_type": "markdown",
   "metadata": {},
   "source": [
    "## Scope <br>\n",
    "<p>Scope refers to the ability to access variables, different types of scope include:<br>a) Global<br>b) Function (local)<br>c) Class (local)</p>"
   ]
  },
  {
   "cell_type": "code",
   "execution_count": 13,
   "metadata": {},
   "outputs": [
    {
     "name": "stdout",
     "output_type": "stream",
     "text": [
      "7\n",
      "5\n"
     ]
    },
    {
     "ename": "NameError",
     "evalue": "name 'thing2' is not defined",
     "output_type": "error",
     "traceback": [
      "\u001b[1;31m---------------------------------------------------------------------------\u001b[0m",
      "\u001b[1;31mNameError\u001b[0m                                 Traceback (most recent call last)",
      "Input \u001b[1;32mIn [13]\u001b[0m, in \u001b[0;36m<module>\u001b[1;34m\u001b[0m\n\u001b[0;32m     25\u001b[0m     \u001b[38;5;28mprint\u001b[39m(a)\n\u001b[0;32m     26\u001b[0m     \u001b[38;5;28mprint\u001b[39m(b)\n\u001b[1;32m---> 28\u001b[0m \u001b[43mthing2\u001b[49m()\n\u001b[0;32m     29\u001b[0m \u001b[38;5;28mprint\u001b[39m(a)\n",
      "\u001b[1;31mNameError\u001b[0m: name 'thing2' is not defined"
     ]
    }
   ],
   "source": [
    "##SCOPE\n",
    "# Usually refers to the ability to access variables, different types of scope include:\n",
    "    #a) global\n",
    "    #b) function(local)\n",
    "    #c) class (local)\n",
    "    \n",
    "# a global scope variable is defined at the global level aka outside of any class or function\n",
    "# it is therefore accessible \"globally\" aka anywhere in our code\n",
    "x = 5\n",
    "\n",
    "def thing():\n",
    "    y = x+2\n",
    "    print(y)\n",
    "    print(x)\n",
    "thing()\n",
    "\n",
    "\n",
    "#local scope to a function is when a varibale (or another function) is defined within a function\n",
    "# unless returned, a locally scoped varibale can only be accessed inside of its scope\n",
    "    #aka inside of the function or class  it was defined\n",
    "    \n",
    "def things2():\n",
    "    a = 5\n",
    "    b =a +2\n",
    "    print(a)\n",
    "    print(b)\n",
    "    \n",
    "thing2()\n",
    "print(a)"
   ]
  },
  {
   "cell_type": "code",
   "execution_count": null,
   "metadata": {},
   "outputs": [],
   "source": [
    "#extra* bonus material - closures - a closure is a function in python defined within another function\n",
    "\n",
    "def outerfunc():\n",
    "    fox = 'Fennec Fox'\n",
    "    def innerfunc():\n",
    "        bear = 'Panda'\n",
    "        print(fox)\n",
    "    innerfunc ()\n",
    "    print (bear)\n",
    "outerfunc()\n",
    "#fox is accessible from inside of innerfunc because fox is defined \"more globally\" at the same level of encapsulation\n",
    "\n",
    "# mnemonic - think Inception for functions - certain elements only accessible at specific levels of accessibility"
   ]
  },
  {
   "cell_type": "markdown",
   "metadata": {},
   "source": [
    "# Exercises"
   ]
  },
  {
   "cell_type": "markdown",
   "metadata": {},
   "source": [
    "## Exercise 1 <br>\n",
    "<p>Given a list as a parameter,write a function that returns a list of numbers that are less than ten</b></i></p><br>\n",
    "<p> For example: Say your input parameter to the function is [1,11,14,5,8,9]...Your output should [1,5,8,9]</p>"
   ]
  },
  {
   "cell_type": "code",
   "execution_count": 2,
   "metadata": {},
   "outputs": [
    {
     "name": "stdout",
     "output_type": "stream",
     "text": [
      "[1, 5, 8, 9]\n"
     ]
    }
   ],
   "source": [
    "# Use the following list - [1,11,14,5,8,9]\n",
    "\n",
    "l_1 = [1,11,14,5,8,9]\n",
    "\n",
    "newlist= []\n",
    "def less_than_ten(list):\n",
    "    for x in list:\n",
    "        if x < 10: \n",
    "            newlist.append(x)\n",
    "    print (newlist)\n",
    "    \n",
    "# calling the function with l_1 as parameter\n",
    "less_than_ten (l_1)"
   ]
  },
  {
   "cell_type": "markdown",
   "metadata": {},
   "source": [
    "## Exercise 2 <br>\n",
    "<p>Write a function that takes in two lists and returns the two lists merged together and sorted<br>\n",
    "<b><i>Hint: You can use the .sort() method</i></b></p>"
   ]
  },
  {
   "cell_type": "code",
   "execution_count": 26,
   "metadata": {},
   "outputs": [
    {
     "name": "stdout",
     "output_type": "stream",
     "text": [
      "[1, 2, 3, 3, 4, 4, 5, 5, 6, 6, 7, 8, 10]\n"
     ]
    }
   ],
   "source": [
    "#input lists:\n",
    "l_1 = [1,2,3,4,5,6]\n",
    "l_2 = [3,4,5,6,7,8,10]\n",
    "\n",
    "#define function and parameters\n",
    "def combine_and_sort(list1,list2):\n",
    "    list3 = list1 + list2 #concatecation\n",
    "    list3.sort() #sorting method - permanent changes to order in list\n",
    "    print(list3)\n",
    "    \n",
    "#calling the function with parameters of list 1 and list 2\n",
    "combine_and_sort(l_1,l_2)"
   ]
  },
  {
   "cell_type": "code",
   "execution_count": null,
   "metadata": {},
   "outputs": [],
   "source": [
    "#extra \n",
    "\n",
    "#create your own appraoch to sorting and make this work for any two lists even if they have mixed datatypes\n",
    "newlist1 =[ 45, 25, 24, 324, 48, 15, 5871]\n",
    "newlist2 = [2, 122, 77, 26544, 21, 36]\n",
    "\n",
    "for newlist1 "
   ]
  }
 ],
 "metadata": {
  "kernelspec": {
   "display_name": "Python 3 (ipykernel)",
   "language": "python",
   "name": "python3"
  },
  "language_info": {
   "codemirror_mode": {
    "name": "ipython",
    "version": 3
   },
   "file_extension": ".py",
   "mimetype": "text/x-python",
   "name": "python",
   "nbconvert_exporter": "python",
   "pygments_lexer": "ipython3",
   "version": "3.9.7"
  }
 },
 "nbformat": 4,
 "nbformat_minor": 2
}
